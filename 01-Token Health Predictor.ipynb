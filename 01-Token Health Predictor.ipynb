{
 "cells": [
  {
   "cell_type": "markdown",
   "id": "f973307b",
   "metadata": {},
   "source": [
    "### Import Libraries and modules"
   ]
  },
  {
   "cell_type": "code",
   "execution_count": 1,
   "id": "ab9199ad",
   "metadata": {},
   "outputs": [],
   "source": [
    "import pandas as pd\n",
    "import numpy as np\n",
    "import requests\n",
    "from sklearn.ensemble import RandomForestClassifier\n",
    "from sklearn.model_selection import train_test_split\n",
    "from sklearn.metrics import classification_report"
   ]
  },
  {
   "cell_type": "markdown",
   "id": "2dcaa94c",
   "metadata": {},
   "source": [
    "Get data from Coingecko API"
   ]
  },
  {
   "cell_type": "code",
   "execution_count": 2,
   "id": "580810ed",
   "metadata": {},
   "outputs": [
    {
     "name": "stdout",
     "output_type": "stream",
     "text": [
      "\n",
      "📊 Raw data:\n",
      "          id symbol  current_price            ath  market_cap_rank  \\\n",
      "0   bitcoin    btc  111588.000000  126080.000000                1   \n",
      "1  ethereum    eth    3955.960000    4946.050000                2   \n",
      "2    solana    sol     194.520000     293.310000                6   \n",
      "3  dogecoin   doge       0.197322       0.731578                9   \n",
      "4   cardano    ada       0.657091       3.090000               11   \n",
      "\n",
      "   price_change_30d  price_change_1y  \n",
      "0          2.371137        67.363573  \n",
      "1          2.847898        60.941721  \n",
      "2         -0.415298        16.255665  \n",
      "3        -11.391586        47.157240  \n",
      "4        -13.917006        94.225216  \n"
     ]
    }
   ],
   "source": [
    "def get_token_data(token_ids):\n",
    "    url = \"https://api.coingecko.com/api/v3/coins/markets\"\n",
    "    params = {\n",
    "        \"vs_currency\": \"usd\",\n",
    "        \"ids\": \",\".join(token_ids),\n",
    "        \"price_change_percentage\": \"1h,24h,7d,30d,1y\"\n",
    "    }\n",
    "    response = requests.get(url, params=params)\n",
    "    data = response.json()\n",
    "    df = pd.DataFrame(data)\n",
    "    \n",
    "    cols = [\"id\", \"symbol\", \"current_price\", \"ath\", \"market_cap_rank\", \"price_change_percentage_30d_in_currency\", \"price_change_percentage_1y_in_currency\"]\n",
    "    cols = [c for c in cols if c in df.columns] \n",
    "    df = df[cols]\n",
    "    df.rename(columns={\"price_change_percentage_30d_in_currency\": \"price_change_30d\", \"price_change_percentage_1y_in_currency\" : \"price_change_1y\"}, inplace=True)\n",
    "    return df\n",
    "\n",
    "\n",
    "tokens = [\"bitcoin\", \"ethereum\", \"solana\", \"cardano\", \"dogecoin\", \"shiba-inu\", \"pepe\", \"kadena\"]\n",
    "\n",
    "df = get_token_data(tokens)\n",
    "print(\"\\n📊 Raw data:\\n\", df.head())\n"
   ]
  },
  {
   "cell_type": "markdown",
   "id": "613d639e",
   "metadata": {},
   "source": [
    "Create features"
   ]
  },
  {
   "cell_type": "code",
   "execution_count": 3,
   "id": "52daf264",
   "metadata": {},
   "outputs": [],
   "source": [
    "df[\"price_drop_from_ath\"] = (df[\"ath\"] - df[\"current_price\"]) / df[\"ath\"] * 100\n",
    "df[\"is_strong\"] = (df[\"price_change_1y\"] > 0).astype(int)\n",
    "\n",
    "features = df[[\"price_drop_from_ath\", \"price_change_30d\", \"price_change_1y\"]]\n",
    "labels = df[\"is_strong\"]"
   ]
  },
  {
   "cell_type": "markdown",
   "id": "912df278",
   "metadata": {},
   "source": [
    "Train Model"
   ]
  },
  {
   "cell_type": "code",
   "execution_count": 4,
   "id": "1e67841a",
   "metadata": {},
   "outputs": [
    {
     "name": "stdout",
     "output_type": "stream",
     "text": [
      "✅ Model evaluation:\n",
      "\n",
      "              precision    recall  f1-score   support\n",
      "\n",
      "        Weak       0.00      0.00      0.00         1\n",
      "      Strong       0.67      1.00      0.80         2\n",
      "\n",
      "    accuracy                           0.67         3\n",
      "   macro avg       0.33      0.50      0.40         3\n",
      "weighted avg       0.44      0.67      0.53         3\n",
      "\n"
     ]
    }
   ],
   "source": [
    "X_train, X_test, y_train, y_test = train_test_split(features, labels, test_size=0.3, random_state=42)\n",
    "\n",
    "model = RandomForestClassifier(n_estimators=50, random_state=42)\n",
    "model.fit(X_train, y_train)\n",
    "\n",
    "y_pred = model.predict(X_test)\n",
    "\n",
    "print(\"✅ Model evaluation:\\n\")\n",
    "print(classification_report(\n",
    "    y_test,\n",
    "    y_pred,\n",
    "    labels=[0, 1],\n",
    "    target_names=[\"Weak\", \"Strong\"],\n",
    "    zero_division=0\n",
    "))\n",
    "\n"
   ]
  },
  {
   "cell_type": "markdown",
   "id": "76d7b814",
   "metadata": {},
   "source": [
    "Predict"
   ]
  },
  {
   "cell_type": "code",
   "execution_count": 5,
   "id": "fffecc06",
   "metadata": {},
   "outputs": [
    {
     "name": "stdout",
     "output_type": "stream",
     "text": [
      "\n",
      "🌐 Token Strength Report:\n",
      "\n",
      "  symbol  current_price  price_drop_from_ath  price_change_30d    Health\n",
      "0    btc  111588.000000            11.494289          2.371137  🟢 Strong\n",
      "1    eth    3955.960000            20.017792          2.847898  🟢 Strong\n",
      "2    sol     194.520000            33.681088         -0.415298  🟢 Strong\n",
      "3   doge       0.197322            73.027893        -11.391586  🟢 Strong\n",
      "4    ada       0.657091            78.734919        -13.917006  🟢 Strong\n",
      "5   shib       0.000010            88.161560        -12.200208  🟢 Strong\n",
      "6   pepe       0.000007            74.348912        -20.308805    🔴 Weak\n",
      "7    kda       0.058508            99.788321        -82.163010    🔴 Weak\n"
     ]
    }
   ],
   "source": [
    "proba = model.predict_proba(features)\n",
    "\n",
    "if proba.shape[1] == 1:\n",
    "    df[\"strength_score\"] = proba[:, 0]\n",
    "    df[\"Health\"] = np.where(df[\"strength_score\"] > 0.5, \"🟢 Strong\", \"🔴 Weak\")\n",
    "else:\n",
    "    df[\"strength_score\"] = proba[:, 1]\n",
    "    df[\"Health\"] = np.where(df[\"strength_score\"] > 0.5, \"🟢 Strong\", \"🔴 Weak\")\n",
    "\n",
    "print(\"\\n🌐 Token Strength Report:\\n\")\n",
    "print(df[[\"symbol\", \"current_price\", \"price_drop_from_ath\", \"price_change_30d\", \"Health\"]])\n"
   ]
  },
  {
   "cell_type": "code",
   "execution_count": null,
   "id": "44c4bd42",
   "metadata": {},
   "outputs": [],
   "source": []
  }
 ],
 "metadata": {
  "kernelspec": {
   "display_name": "anaconda-finance",
   "language": "python",
   "name": "python3"
  },
  "language_info": {
   "codemirror_mode": {
    "name": "ipython",
    "version": 3
   },
   "file_extension": ".py",
   "mimetype": "text/x-python",
   "name": "python",
   "nbconvert_exporter": "python",
   "pygments_lexer": "ipython3",
   "version": "3.11.13"
  }
 },
 "nbformat": 4,
 "nbformat_minor": 5
}

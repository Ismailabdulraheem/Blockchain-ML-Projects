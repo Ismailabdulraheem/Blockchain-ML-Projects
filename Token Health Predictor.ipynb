{
 "cells": [
  {
   "cell_type": "markdown",
   "id": "f973307b",
   "metadata": {},
   "source": [
    "### Import Libraries and modules"
   ]
  },
  {
   "cell_type": "code",
   "execution_count": 12,
   "id": "ab9199ad",
   "metadata": {},
   "outputs": [],
   "source": [
    "import pandas as pd\n",
    "import numpy as np\n",
    "import requests\n",
    "from sklearn.ensemble import RandomForestClassifier\n",
    "from sklearn.model_selection import train_test_split\n",
    "from sklearn.metrics import classification_report"
   ]
  },
  {
   "cell_type": "markdown",
   "id": "2dcaa94c",
   "metadata": {},
   "source": [
    "Get data from Coingecko API"
   ]
  },
  {
   "cell_type": "code",
   "execution_count": 21,
   "id": "580810ed",
   "metadata": {},
   "outputs": [
    {
     "name": "stdout",
     "output_type": "stream",
     "text": [
      "\n",
      "📊 Raw data:\n",
      "          id symbol  current_price            ath  market_cap_rank  \\\n",
      "0   bitcoin    btc  111415.000000  126080.000000                1   \n",
      "1  ethereum    eth    3937.740000    4946.050000                2   \n",
      "2    solana    sol     192.190000     293.310000                6   \n",
      "3  dogecoin   doge       0.197000       0.731578                9   \n",
      "4   cardano    ada       0.654684       3.090000               11   \n",
      "\n",
      "   price_change_30d  price_change_1y  \n",
      "0          0.376418        64.612854  \n",
      "1         -0.074186        56.145112  \n",
      "2         -4.398170        11.758674  \n",
      "3        -14.656241        44.908596  \n",
      "4        -17.190148        91.488470  \n"
     ]
    }
   ],
   "source": [
    "def get_token_data(token_ids):\n",
    "    url = \"https://api.coingecko.com/api/v3/coins/markets\"\n",
    "    params = {\n",
    "        \"vs_currency\": \"usd\",\n",
    "        \"ids\": \",\".join(token_ids),\n",
    "        \"price_change_percentage\": \"1h,24h,7d,30d,1y\"\n",
    "    }\n",
    "    response = requests.get(url, params=params)\n",
    "    data = response.json()\n",
    "    df = pd.DataFrame(data)\n",
    "    \n",
    "    cols = [\"id\", \"symbol\", \"current_price\", \"ath\", \"market_cap_rank\", \"price_change_percentage_30d_in_currency\", \"price_change_percentage_1y_in_currency\"]\n",
    "    cols = [c for c in cols if c in df.columns] \n",
    "    df = df[cols]\n",
    "    df.rename(columns={\"price_change_percentage_30d_in_currency\": \"price_change_30d\", \"price_change_percentage_1y_in_currency\" : \"price_change_1y\"}, inplace=True)\n",
    "    return df\n",
    "\n",
    "\n",
    "tokens = [\"bitcoin\", \"ethereum\", \"solana\", \"cardano\", \"dogecoin\", \"shiba-inu\", \"pepe\", \"kadena\"]\n",
    "\n",
    "df = get_token_data(tokens)\n",
    "print(\"\\n📊 Raw data:\\n\", df.head())\n"
   ]
  },
  {
   "cell_type": "markdown",
   "id": "613d639e",
   "metadata": {},
   "source": [
    "Create features"
   ]
  },
  {
   "cell_type": "code",
   "execution_count": 22,
   "id": "52daf264",
   "metadata": {},
   "outputs": [],
   "source": [
    "df[\"price_drop_from_ath\"] = (df[\"ath\"] - df[\"current_price\"]) / df[\"ath\"] * 100\n",
    "df[\"is_strong\"] = (df[\"price_change_30d\"] > 0).astype(int)\n",
    "\n",
    "features = df[[\"price_drop_from_ath\", \"price_change_30d\", \"price_change_1y\"]]\n",
    "labels = df[\"is_strong\"]"
   ]
  },
  {
   "cell_type": "markdown",
   "id": "912df278",
   "metadata": {},
   "source": [
    "Train Model"
   ]
  },
  {
   "cell_type": "code",
   "execution_count": 23,
   "id": "1e67841a",
   "metadata": {},
   "outputs": [
    {
     "name": "stdout",
     "output_type": "stream",
     "text": [
      "✅ Model evaluation:\n",
      "\n",
      "              precision    recall  f1-score   support\n",
      "\n",
      "        Weak       0.67      1.00      0.80         2\n",
      "      Strong       0.00      0.00      0.00         1\n",
      "\n",
      "    accuracy                           0.67         3\n",
      "   macro avg       0.33      0.50      0.40         3\n",
      "weighted avg       0.44      0.67      0.53         3\n",
      "\n"
     ]
    }
   ],
   "source": [
    "X_train, X_test, y_train, y_test = train_test_split(features, labels, test_size=0.3, random_state=42)\n",
    "\n",
    "model = RandomForestClassifier(n_estimators=50, random_state=42)\n",
    "model.fit(X_train, y_train)\n",
    "\n",
    "y_pred = model.predict(X_test)\n",
    "\n",
    "print(\"✅ Model evaluation:\\n\")\n",
    "print(classification_report(\n",
    "    y_test,\n",
    "    y_pred,\n",
    "    labels=[0, 1],\n",
    "    target_names=[\"Weak\", \"Strong\"],\n",
    "    zero_division=0\n",
    "))\n",
    "\n"
   ]
  },
  {
   "cell_type": "markdown",
   "id": "76d7b814",
   "metadata": {},
   "source": [
    "Predict"
   ]
  },
  {
   "cell_type": "code",
   "execution_count": 19,
   "id": "fffecc06",
   "metadata": {},
   "outputs": [
    {
     "name": "stdout",
     "output_type": "stream",
     "text": [
      "\n",
      "🌐 Token Strength Report:\n",
      "\n",
      "  symbol  current_price  price_drop_from_ath  price_change_30d    Health\n",
      "0    btc  111255.000000            11.758407         -0.267333  🟢 Strong\n",
      "1    eth    3932.800000            20.486044         -1.947774  🟢 Strong\n",
      "2    sol     191.730000            34.632300         -5.435645  🟢 Strong\n",
      "3   doge       0.196325            73.164174        -14.948961  🟢 Strong\n",
      "4    ada       0.653257            78.858997        -17.784660  🟢 Strong\n",
      "5   shib       0.000010            88.231198        -15.006210  🟢 Strong\n",
      "6   pepe       0.000007            74.527292        -24.464454  🟢 Strong\n"
     ]
    }
   ],
   "source": [
    "proba = model.predict_proba(features)\n",
    "\n",
    "if proba.shape[1] == 1:\n",
    "    # Only one class present — just use model.predict() instead\n",
    "    df[\"strength_score\"] = proba[:, 0]\n",
    "    df[\"Health\"] = np.where(df[\"strength_score\"] > 0.5, \"🟢 Strong\", \"🔴 Weak\")\n",
    "else:\n",
    "    # Normal case: two-class probability\n",
    "    df[\"strength_score\"] = proba[:, 1]\n",
    "    df[\"Health\"] = np.where(df[\"strength_score\"] > 0.5, \"🟢 Strong\", \"🔴 Weak\")\n",
    "\n",
    "print(\"\\n🌐 Token Strength Report:\\n\")\n",
    "print(df[[\"symbol\", \"current_price\", \"price_drop_from_ath\", \"price_change_30d\", \"Health\"]])\n"
   ]
  },
  {
   "cell_type": "code",
   "execution_count": null,
   "id": "44c4bd42",
   "metadata": {},
   "outputs": [],
   "source": []
  }
 ],
 "metadata": {
  "kernelspec": {
   "display_name": "base",
   "language": "python",
   "name": "python3"
  },
  "language_info": {
   "codemirror_mode": {
    "name": "ipython",
    "version": 3
   },
   "file_extension": ".py",
   "mimetype": "text/x-python",
   "name": "python",
   "nbconvert_exporter": "python",
   "pygments_lexer": "ipython3",
   "version": "3.13.5"
  }
 },
 "nbformat": 4,
 "nbformat_minor": 5
}
